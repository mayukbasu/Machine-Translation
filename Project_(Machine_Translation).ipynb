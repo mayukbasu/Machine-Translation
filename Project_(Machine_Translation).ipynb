{
  "nbformat": 4,
  "nbformat_minor": 0,
  "metadata": {
    "colab": {
      "name": "Project (Machine Translation).ipynb",
      "provenance": [],
      "collapsed_sections": [],
      "authorship_tag": "ABX9TyM7rJ4RKbuZJIizRPll0u04",
      "include_colab_link": true
    },
    "kernelspec": {
      "name": "python3",
      "display_name": "Python 3"
    },
    "language_info": {
      "name": "python"
    }
  },
  "cells": [
    {
      "cell_type": "markdown",
      "metadata": {
        "id": "view-in-github",
        "colab_type": "text"
      },
      "source": [
        "<a href=\"https://colab.research.google.com/github/mayukbasu/Machine-Translation/blob/main/Project_(Machine_Translation).ipynb\" target=\"_parent\"><img src=\"https://colab.research.google.com/assets/colab-badge.svg\" alt=\"Open In Colab\"/></a>"
      ]
    },
    {
      "cell_type": "code",
      "metadata": {
        "colab": {
          "base_uri": "https://localhost:8080/"
        },
        "id": "MnxmmGYNnhhS",
        "outputId": "7caf43b5-b98e-4f25-bfc6-58570b1359aa"
      },
      "source": [
        "%load_ext autoreload\n",
        "%autoreload 2\n",
        "\n",
        "# Python ≥3.5 (ideally)\n",
        "import platform\n",
        "import sys, getopt\n",
        "assert sys.version_info >= (3, 5)\n",
        "import csv\n",
        "\n",
        "# Import Dependencies\n",
        "%matplotlib inline\n",
        "\n",
        "# Math Operations\n",
        "import numpy as np\n",
        "import math\n",
        "from math import pi\n",
        "\n",
        "# Datetime\n",
        "import datetime\n",
        "from datetime import date\n",
        "import time\n",
        "\n",
        "# Data Preprocessing\n",
        "import pandas as pd\n",
        "import pandas_profiling as pp\n",
        "import os\n",
        "import re\n",
        "import random\n",
        "from io import BytesIO\n",
        "from pathlib import Path\n",
        "\n",
        "# Reading directories\n",
        "import glob\n",
        "import os\n",
        "from os.path import basename\n",
        "\n",
        "# Working with JSON\n",
        "import json\n",
        "from pandas.io.json import json_normalize\n",
        "\n",
        "# Data Visualisation\n",
        "import matplotlib as mpl\n",
        "import matplotlib.pyplot as plt\n",
        "from matplotlib import patches\n",
        "from matplotlib.patches import Arc\n",
        "from matplotlib.colors import ListedColormap\n",
        "import plotly\n",
        "import plotly.graph_objects as go\n",
        "\n",
        "import seaborn as sns\n",
        "import missingno as msno\n",
        "\n",
        "# Downloading data sources\n",
        "from urllib.parse import urlparse\n",
        "from urllib.request import urlopen, urlretrieve\n",
        "from zipfile import ZipFile, is_zipfile\n",
        "from tqdm import tqdm\n",
        "\n",
        "\n",
        "# Machine Learning\n",
        "import scipy as sp\n",
        "import scipy.spatial\n",
        "from scipy.spatial import distance\n",
        "from sklearn.ensemble import RandomForestClassifier\n",
        "#from sklearn.inspection import permutation_importance\n",
        "import sklearn.metrics as sk_metrics\n",
        "from sklearn.metrics import log_loss, brier_score_loss, roc_auc_score , roc_curve, average_precision_score\n",
        "from sklearn.model_selection import train_test_split, KFold, cross_val_score, GridSearchCV, RandomizedSearchCV\n",
        "from sklearn.linear_model import LogisticRegression\n",
        "#from scikitplot.metrics import plot_roc_curve, plot_precision_recall_curve, plot_calibration_curve\n",
        "import pickle\n",
        "from xgboost import XGBClassifier   # version 1.0.2\n",
        "\n",
        "# Display in Jupyter\n",
        "#from IPython.display import Image, Video, YouTubeVideo\n",
        "from IPython.core.display import HTML\n",
        "\n",
        "# Ignore Warnings\n",
        "import warnings\n",
        "warnings.filterwarnings(action='ignore', message='^internal gelsd')\n",
        "\n",
        "print('Setup Complete')"
      ],
      "execution_count": 2,
      "outputs": [
        {
          "output_type": "stream",
          "name": "stdout",
          "text": [
            "Setup Complete\n"
          ]
        }
      ]
    },
    {
      "cell_type": "code",
      "metadata": {
        "id": "18QAOGWzGS60",
        "colab": {
          "base_uri": "https://localhost:8080/"
        },
        "outputId": "d6ad9aeb-3c8d-4806-c9f0-2ebfbc0150c7"
      },
      "source": [
        "import re\n",
        "import random\n",
        "data_path = \"English.txt\"\n",
        "data_path2 = \"Hindi.txt\"\n",
        "# Defining lines as a list of each line\n",
        "with open(data_path, 'r', encoding='utf-8') as f:\n",
        "  lines = f.read().strip().split('\\n')\n",
        "with open(data_path2, 'r', encoding='utf-8') as f:\n",
        "  lines2 = f.read().strip().split('\\n')\n",
        "\n",
        "lines = [\" \".join(re.findall(r\"[A-Za-z0-9]+\",line)) for line in lines]\n",
        "lines2 = [re.sub(r\"%s|\\(|\\)|<|>|%|[a-z]|[A-Z]|_\",'',line) for line in lines2]\n",
        "\n",
        "# Grouping lines by response pair\n",
        "pairs = list(zip(lines,lines2))\n",
        "random.shuffle(pairs)\n",
        "print(len(pairs))"
      ],
      "execution_count": 3,
      "outputs": [
        {
          "output_type": "stream",
          "name": "stdout",
          "text": [
            "10000\n"
          ]
        }
      ]
    },
    {
      "cell_type": "code",
      "metadata": {
        "id": "AYHmLwP2MnBd",
        "colab": {
          "base_uri": "https://localhost:8080/"
        },
        "outputId": "d5acde0a-5bcc-41fa-87d4-62f830ef5f96"
      },
      "source": [
        "print(pairs[103])"
      ],
      "execution_count": 4,
      "outputs": [
        {
          "output_type": "stream",
          "name": "stdout",
          "text": [
            "('california is sometimes hot during february but it is never freezing in june', 'कैलिफ़ोर्निया कभी-कभी पितृपक्ष के दौरान गर्म होता है, लेकिन यह कभी भी जून में जम नहीं पाता है।')\n"
          ]
        }
      ]
    },
    {
      "cell_type": "code",
      "metadata": {
        "id": "uSYVkFqxapp8"
      },
      "source": [
        "import numpy as np\n",
        "\n",
        "input_docs = []\n",
        "target_docs = []\n",
        "input_tokens = set()\n",
        "target_tokens = set()\n",
        "for line in pairs:\n",
        "  input_doc, target_doc = line[0], line[1]\n",
        "  # Appending each input sentence to input_docs\n",
        "  input_docs.append(input_doc)\n",
        "  # Splitting words from punctuation  \n",
        "  target_doc = \" \".join(re.findall(r\"[\\w']+|[^\\s\\w]\", target_doc))\n",
        "  # Redefine target_doc below and append it to target_docs\n",
        "  target_doc = '<START> ' + target_doc + ' <END>'\n",
        "  target_docs.append(target_doc)\n",
        "  \n",
        "  # Now we split up each sentence into words and add each unique word to our vocabulary set\n",
        "  for token in re.findall(r\"[\\w']+|[^\\s\\w]\", input_doc):\n",
        "    if token not in input_tokens:\n",
        "      input_tokens.add(token)\n",
        "  for token in target_doc.split(\" \"):\n",
        "    if token not in target_tokens:\n",
        "      target_tokens.add(token)\n",
        "input_tokens = sorted(list(input_tokens))\n",
        "target_tokens = sorted(list(target_tokens))\n",
        "num_encoder_tokens = len(input_tokens)\n",
        "num_decoder_tokens = len(target_tokens)\n",
        "\n",
        "input_features_dict = dict(\n",
        "    [(token, i) for i, token in enumerate(input_tokens)])\n",
        "target_features_dict = dict(\n",
        "    [(token, i) for i, token in enumerate(target_tokens)])\n",
        "\n",
        "reverse_input_features_dict = dict(\n",
        "    (i, token) for token, i in input_features_dict.items())\n",
        "reverse_target_features_dict = dict(\n",
        "    (i, token) for token, i in target_features_dict.items())\n",
        "\n",
        "\n",
        "max_encoder_seq_length = max([len(re.findall(r\"[\\w']+|[^\\s\\w]\", input_doc)) for input_doc in input_docs])\n",
        "max_decoder_seq_length = max([len(re.findall(r\"[\\w']+|[^\\s\\w]\", target_doc)) for target_doc in target_docs])\n",
        "\n",
        "encoder_input_data = np.zeros(\n",
        "    (len(input_docs), max_encoder_seq_length, num_encoder_tokens),\n",
        "    dtype='float32')\n",
        "decoder_input_data = np.zeros(\n",
        "    (len(input_docs), max_decoder_seq_length, num_decoder_tokens),\n",
        "    dtype='float32')\n",
        "decoder_target_data = np.zeros(\n",
        "    (len(input_docs), max_decoder_seq_length, num_decoder_tokens),\n",
        "    dtype='float32')\n",
        "\n",
        "for line, (input_doc, target_doc) in enumerate(zip(input_docs, target_docs)):\n",
        "    for timestep, token in enumerate(re.findall(r\"[\\w']+|[^\\s\\w]\", input_doc)):\n",
        "        #Assign 1. for the current line, timestep, & word in encoder_input_data\n",
        "        encoder_input_data[line, timestep, input_features_dict[token]] = 1.\n",
        "    \n",
        "    for timestep, token in enumerate(target_doc.split()):\n",
        "        decoder_input_data[line, timestep, target_features_dict[token]] = 1.\n",
        "        if timestep > 0:\n",
        "            decoder_target_data[line, timestep - 1, target_features_dict[token]] = 1.\n"
      ],
      "execution_count": 5,
      "outputs": []
    },
    {
      "cell_type": "code",
      "metadata": {
        "id": "9FpRLZORdZVN",
        "colab": {
          "base_uri": "https://localhost:8080/"
        },
        "outputId": "f4eedb9f-f06b-4ab1-ab11-6ff6f4417838"
      },
      "source": [
        "print(target_docs[103],input_docs[103],num_decoder_tokens,num_encoder_tokens)"
      ],
      "execution_count": 6,
      "outputs": [
        {
          "output_type": "stream",
          "name": "stdout",
          "text": [
            "<START> क ै ल ि फ ़ ो र ् न ि य ा कभ ी - कभ ी प ि त ृ पक ् ष क े द ौ र ा न गर ् म ह ो त ा ह ै , ल े क ि न यह कभ ी भ ी ज ू न म े ं जम नह ी ं प ा त ा ह ै । <END> california is sometimes hot during february but it is never freezing in june 239 200\n"
          ]
        }
      ]
    },
    {
      "cell_type": "code",
      "metadata": {
        "id": "D49-1lMK0VoW"
      },
      "source": [
        "import keras\n",
        "import keras.callbacks\n",
        "from keras.callbacks import TensorBoard"
      ],
      "execution_count": 7,
      "outputs": []
    },
    {
      "cell_type": "code",
      "metadata": {
        "id": "rf49e0wecLqG",
        "colab": {
          "base_uri": "https://localhost:8080/"
        },
        "outputId": "08d79441-b251-44bc-8497-aa410d5279ba"
      },
      "source": [
        "import tensorflow as tf\n",
        "from tensorflow import keras\n",
        "from keras.layers import Input, LSTM, Dense\n",
        "from keras.models import Model\n",
        "#Dimensionality\n",
        "dimensionality = 256\n",
        "#The batch size and number of epochs\n",
        "batch_size = 256\n",
        "epochs = 100\n",
        "#Encoder\n",
        "encoder_inputs = Input(shape=(None, num_encoder_tokens))\n",
        "encoder_lstm = LSTM(dimensionality, return_state=True)\n",
        "encoder_outputs, state_hidden, state_cell = encoder_lstm(encoder_inputs)\n",
        "encoder_states = [state_hidden, state_cell]\n",
        "#Decoder\n",
        "decoder_inputs = Input(shape=(None, num_decoder_tokens))\n",
        "decoder_lstm = LSTM(dimensionality, return_sequences=True, return_state=True)\n",
        "decoder_outputs, decoder_state_hidden, decoder_state_cell = decoder_lstm(decoder_inputs, initial_state=encoder_states)\n",
        "decoder_dense = Dense(num_decoder_tokens, activation='softmax')\n",
        "decoder_outputs = decoder_dense(decoder_outputs)\n",
        "\n",
        "# #Model\n",
        "training_model = Model([encoder_inputs, decoder_inputs], decoder_outputs)\n",
        "# #Compiling\n",
        "training_model.compile(optimizer='adam', loss='categorical_crossentropy', metrics=['accuracy'])\n",
        "\n",
        "#Training\n",
        "history = training_model.fit([encoder_input_data, decoder_input_data], decoder_target_data, batch_size = batch_size, epochs = epochs, validation_split = 0.2)\n",
        "#training_model.save('training_model.h5')"
      ],
      "execution_count": 8,
      "outputs": [
        {
          "output_type": "stream",
          "name": "stdout",
          "text": [
            "Epoch 1/100\n",
            "32/32 [==============================] - 54s 2s/step - loss: 2.4249 - accuracy: 0.0466 - val_loss: 2.1602 - val_accuracy: 0.0493\n",
            "Epoch 2/100\n",
            "32/32 [==============================] - 50s 2s/step - loss: 2.1534 - accuracy: 0.0499 - val_loss: 2.1601 - val_accuracy: 0.0507\n",
            "Epoch 3/100\n",
            "32/32 [==============================] - 50s 2s/step - loss: 2.1456 - accuracy: 0.0508 - val_loss: 2.1476 - val_accuracy: 0.0515\n",
            "Epoch 4/100\n",
            "32/32 [==============================] - 50s 2s/step - loss: 2.1344 - accuracy: 0.0525 - val_loss: 2.1389 - val_accuracy: 0.0541\n",
            "Epoch 5/100\n",
            "32/32 [==============================] - 50s 2s/step - loss: 2.1215 - accuracy: 0.0540 - val_loss: 2.1263 - val_accuracy: 0.0538\n",
            "Epoch 6/100\n",
            "32/32 [==============================] - 50s 2s/step - loss: 2.1095 - accuracy: 0.0545 - val_loss: 2.1110 - val_accuracy: 0.0562\n",
            "Epoch 7/100\n",
            "32/32 [==============================] - 50s 2s/step - loss: 2.0913 - accuracy: 0.0564 - val_loss: 2.0912 - val_accuracy: 0.0587\n",
            "Epoch 8/100\n",
            "32/32 [==============================] - 50s 2s/step - loss: 2.0680 - accuracy: 0.0595 - val_loss: 2.0679 - val_accuracy: 0.0615\n",
            "Epoch 9/100\n",
            "32/32 [==============================] - 50s 2s/step - loss: 2.0413 - accuracy: 0.0616 - val_loss: 2.0371 - val_accuracy: 0.0637\n",
            "Epoch 10/100\n",
            "32/32 [==============================] - 50s 2s/step - loss: 2.0124 - accuracy: 0.0660 - val_loss: 2.0099 - val_accuracy: 0.0685\n",
            "Epoch 11/100\n",
            "32/32 [==============================] - 50s 2s/step - loss: 1.9825 - accuracy: 0.0726 - val_loss: 1.9781 - val_accuracy: 0.0777\n",
            "Epoch 12/100\n",
            "32/32 [==============================] - 50s 2s/step - loss: 1.9599 - accuracy: 0.0804 - val_loss: 1.9619 - val_accuracy: 0.0830\n",
            "Epoch 13/100\n",
            "32/32 [==============================] - 50s 2s/step - loss: 1.9388 - accuracy: 0.0857 - val_loss: 1.9324 - val_accuracy: 0.0884\n",
            "Epoch 14/100\n",
            "32/32 [==============================] - 50s 2s/step - loss: 1.9120 - accuracy: 0.0910 - val_loss: 1.9170 - val_accuracy: 0.0925\n",
            "Epoch 15/100\n",
            "32/32 [==============================] - 50s 2s/step - loss: 1.8916 - accuracy: 0.0957 - val_loss: 1.8862 - val_accuracy: 0.1051\n",
            "Epoch 16/100\n",
            "32/32 [==============================] - 50s 2s/step - loss: 1.8627 - accuracy: 0.1048 - val_loss: 1.8506 - val_accuracy: 0.1126\n",
            "Epoch 17/100\n",
            "32/32 [==============================] - 50s 2s/step - loss: 1.8281 - accuracy: 0.1131 - val_loss: 1.8216 - val_accuracy: 0.1176\n",
            "Epoch 18/100\n",
            "32/32 [==============================] - 50s 2s/step - loss: 1.7859 - accuracy: 0.1227 - val_loss: 1.7692 - val_accuracy: 0.1311\n",
            "Epoch 19/100\n",
            "32/32 [==============================] - 50s 2s/step - loss: 1.7407 - accuracy: 0.1369 - val_loss: 1.7328 - val_accuracy: 0.1477\n",
            "Epoch 20/100\n",
            "32/32 [==============================] - 50s 2s/step - loss: 1.6970 - accuracy: 0.1570 - val_loss: 1.6833 - val_accuracy: 0.1676\n",
            "Epoch 21/100\n",
            "32/32 [==============================] - 50s 2s/step - loss: 1.6554 - accuracy: 0.1739 - val_loss: 1.6314 - val_accuracy: 0.1843\n",
            "Epoch 22/100\n",
            "32/32 [==============================] - 50s 2s/step - loss: 1.5928 - accuracy: 0.1929 - val_loss: 1.5719 - val_accuracy: 0.2043\n",
            "Epoch 23/100\n",
            "32/32 [==============================] - 50s 2s/step - loss: 1.5264 - accuracy: 0.2137 - val_loss: 1.4980 - val_accuracy: 0.2246\n",
            "Epoch 24/100\n",
            "32/32 [==============================] - 50s 2s/step - loss: 1.4554 - accuracy: 0.2345 - val_loss: 1.4327 - val_accuracy: 0.2429\n",
            "Epoch 25/100\n",
            "32/32 [==============================] - 50s 2s/step - loss: 1.3862 - accuracy: 0.2528 - val_loss: 1.3553 - val_accuracy: 0.2656\n",
            "Epoch 26/100\n",
            "32/32 [==============================] - 50s 2s/step - loss: 1.3123 - accuracy: 0.2775 - val_loss: 1.2855 - val_accuracy: 0.2882\n",
            "Epoch 27/100\n",
            "32/32 [==============================] - 50s 2s/step - loss: 1.2372 - accuracy: 0.3004 - val_loss: 1.2132 - val_accuracy: 0.3083\n",
            "Epoch 28/100\n",
            "32/32 [==============================] - 50s 2s/step - loss: 1.1687 - accuracy: 0.3183 - val_loss: 1.1462 - val_accuracy: 0.3263\n",
            "Epoch 29/100\n",
            "32/32 [==============================] - 50s 2s/step - loss: 1.1073 - accuracy: 0.3340 - val_loss: 1.0849 - val_accuracy: 0.3443\n",
            "Epoch 30/100\n",
            "32/32 [==============================] - 50s 2s/step - loss: 1.0425 - accuracy: 0.3505 - val_loss: 1.0202 - val_accuracy: 0.3577\n",
            "Epoch 31/100\n",
            "32/32 [==============================] - 50s 2s/step - loss: 0.9848 - accuracy: 0.3639 - val_loss: 0.9750 - val_accuracy: 0.3668\n",
            "Epoch 32/100\n",
            "32/32 [==============================] - 50s 2s/step - loss: 0.9324 - accuracy: 0.3774 - val_loss: 0.9157 - val_accuracy: 0.3840\n",
            "Epoch 33/100\n",
            "32/32 [==============================] - 50s 2s/step - loss: 0.8829 - accuracy: 0.3862 - val_loss: 0.8687 - val_accuracy: 0.3918\n",
            "Epoch 34/100\n",
            "32/32 [==============================] - 50s 2s/step - loss: 0.8384 - accuracy: 0.3943 - val_loss: 0.8247 - val_accuracy: 0.3990\n",
            "Epoch 35/100\n",
            "32/32 [==============================] - 50s 2s/step - loss: 0.7948 - accuracy: 0.4027 - val_loss: 0.7856 - val_accuracy: 0.4061\n",
            "Epoch 36/100\n",
            "32/32 [==============================] - 50s 2s/step - loss: 0.7567 - accuracy: 0.4096 - val_loss: 0.7490 - val_accuracy: 0.4127\n",
            "Epoch 37/100\n",
            "32/32 [==============================] - 50s 2s/step - loss: 0.7214 - accuracy: 0.4159 - val_loss: 0.7126 - val_accuracy: 0.4185\n",
            "Epoch 38/100\n",
            "32/32 [==============================] - 50s 2s/step - loss: 0.6899 - accuracy: 0.4212 - val_loss: 0.6854 - val_accuracy: 0.4232\n",
            "Epoch 39/100\n",
            "32/32 [==============================] - 50s 2s/step - loss: 0.6615 - accuracy: 0.4256 - val_loss: 0.6567 - val_accuracy: 0.4283\n",
            "Epoch 40/100\n",
            "32/32 [==============================] - 50s 2s/step - loss: 0.6327 - accuracy: 0.4308 - val_loss: 0.6301 - val_accuracy: 0.4338\n",
            "Epoch 41/100\n",
            "32/32 [==============================] - 50s 2s/step - loss: 0.6093 - accuracy: 0.4351 - val_loss: 0.6074 - val_accuracy: 0.4375\n",
            "Epoch 42/100\n",
            "32/32 [==============================] - 50s 2s/step - loss: 0.5881 - accuracy: 0.4388 - val_loss: 0.5890 - val_accuracy: 0.4405\n",
            "Epoch 43/100\n",
            "32/32 [==============================] - 50s 2s/step - loss: 0.5684 - accuracy: 0.4423 - val_loss: 0.5695 - val_accuracy: 0.4442\n",
            "Epoch 44/100\n",
            "32/32 [==============================] - 50s 2s/step - loss: 0.5515 - accuracy: 0.4455 - val_loss: 0.5570 - val_accuracy: 0.4459\n",
            "Epoch 45/100\n",
            "32/32 [==============================] - 50s 2s/step - loss: 0.5360 - accuracy: 0.4477 - val_loss: 0.5365 - val_accuracy: 0.4496\n",
            "Epoch 46/100\n",
            "32/32 [==============================] - 50s 2s/step - loss: 0.5205 - accuracy: 0.4503 - val_loss: 0.5233 - val_accuracy: 0.4513\n",
            "Epoch 47/100\n",
            "32/32 [==============================] - 50s 2s/step - loss: 0.5076 - accuracy: 0.4527 - val_loss: 0.5137 - val_accuracy: 0.4535\n",
            "Epoch 48/100\n",
            "32/32 [==============================] - 50s 2s/step - loss: 0.4961 - accuracy: 0.4543 - val_loss: 0.5021 - val_accuracy: 0.4561\n",
            "Epoch 49/100\n",
            "32/32 [==============================] - 50s 2s/step - loss: 0.4849 - accuracy: 0.4562 - val_loss: 0.4894 - val_accuracy: 0.4582\n",
            "Epoch 50/100\n",
            "32/32 [==============================] - 50s 2s/step - loss: 0.4733 - accuracy: 0.4587 - val_loss: 0.4792 - val_accuracy: 0.4597\n",
            "Epoch 51/100\n",
            "32/32 [==============================] - 50s 2s/step - loss: 0.4641 - accuracy: 0.4600 - val_loss: 0.4703 - val_accuracy: 0.4608\n",
            "Epoch 52/100\n",
            "32/32 [==============================] - 50s 2s/step - loss: 0.4540 - accuracy: 0.4625 - val_loss: 0.4609 - val_accuracy: 0.4634\n",
            "Epoch 53/100\n",
            "32/32 [==============================] - 50s 2s/step - loss: 0.4449 - accuracy: 0.4640 - val_loss: 0.4536 - val_accuracy: 0.4644\n",
            "Epoch 54/100\n",
            "32/32 [==============================] - 50s 2s/step - loss: 0.4387 - accuracy: 0.4650 - val_loss: 0.4456 - val_accuracy: 0.4658\n",
            "Epoch 55/100\n",
            "32/32 [==============================] - 50s 2s/step - loss: 0.4305 - accuracy: 0.4664 - val_loss: 0.4388 - val_accuracy: 0.4666\n",
            "Epoch 56/100\n",
            "32/32 [==============================] - 50s 2s/step - loss: 0.4221 - accuracy: 0.4686 - val_loss: 0.4342 - val_accuracy: 0.4675\n",
            "Epoch 57/100\n",
            "32/32 [==============================] - 50s 2s/step - loss: 0.4159 - accuracy: 0.4696 - val_loss: 0.4259 - val_accuracy: 0.4697\n",
            "Epoch 58/100\n",
            "32/32 [==============================] - 50s 2s/step - loss: 0.4099 - accuracy: 0.4709 - val_loss: 0.4197 - val_accuracy: 0.4710\n",
            "Epoch 59/100\n",
            "32/32 [==============================] - 50s 2s/step - loss: 0.4021 - accuracy: 0.4728 - val_loss: 0.4135 - val_accuracy: 0.4726\n",
            "Epoch 60/100\n",
            "32/32 [==============================] - 50s 2s/step - loss: 0.3963 - accuracy: 0.4743 - val_loss: 0.4062 - val_accuracy: 0.4740\n",
            "Epoch 61/100\n",
            "32/32 [==============================] - 50s 2s/step - loss: 0.3902 - accuracy: 0.4800 - val_loss: 0.4045 - val_accuracy: 0.4824\n",
            "Epoch 62/100\n",
            "32/32 [==============================] - 50s 2s/step - loss: 0.3856 - accuracy: 0.4850 - val_loss: 0.3964 - val_accuracy: 0.4850\n",
            "Epoch 63/100\n",
            "32/32 [==============================] - 50s 2s/step - loss: 0.3829 - accuracy: 0.4853 - val_loss: 0.4080 - val_accuracy: 0.4806\n",
            "Epoch 64/100\n",
            "32/32 [==============================] - 50s 2s/step - loss: 0.3793 - accuracy: 0.4861 - val_loss: 0.3858 - val_accuracy: 0.4876\n",
            "Epoch 65/100\n",
            "32/32 [==============================] - 50s 2s/step - loss: 0.3685 - accuracy: 0.4893 - val_loss: 0.3816 - val_accuracy: 0.4881\n",
            "Epoch 66/100\n",
            "32/32 [==============================] - 50s 2s/step - loss: 0.3649 - accuracy: 0.4899 - val_loss: 0.3751 - val_accuracy: 0.4897\n",
            "Epoch 67/100\n",
            "32/32 [==============================] - 50s 2s/step - loss: 0.3585 - accuracy: 0.4914 - val_loss: 0.3728 - val_accuracy: 0.4900\n",
            "Epoch 68/100\n",
            "32/32 [==============================] - 50s 2s/step - loss: 0.3541 - accuracy: 0.4920 - val_loss: 0.3670 - val_accuracy: 0.4907\n",
            "Epoch 69/100\n",
            "32/32 [==============================] - 50s 2s/step - loss: 0.3495 - accuracy: 0.4928 - val_loss: 0.3637 - val_accuracy: 0.4914\n",
            "Epoch 70/100\n",
            "32/32 [==============================] - 50s 2s/step - loss: 0.3456 - accuracy: 0.4934 - val_loss: 0.3586 - val_accuracy: 0.4920\n",
            "Epoch 71/100\n",
            "32/32 [==============================] - 50s 2s/step - loss: 0.3418 - accuracy: 0.4936 - val_loss: 0.3544 - val_accuracy: 0.4921\n",
            "Epoch 72/100\n",
            "32/32 [==============================] - 50s 2s/step - loss: 0.3366 - accuracy: 0.4947 - val_loss: 0.3532 - val_accuracy: 0.4928\n",
            "Epoch 73/100\n",
            "32/32 [==============================] - 50s 2s/step - loss: 0.3334 - accuracy: 0.4950 - val_loss: 0.3473 - val_accuracy: 0.4931\n",
            "Epoch 74/100\n",
            "32/32 [==============================] - 50s 2s/step - loss: 0.3284 - accuracy: 0.4959 - val_loss: 0.3434 - val_accuracy: 0.4941\n",
            "Epoch 75/100\n",
            "32/32 [==============================] - 50s 2s/step - loss: 0.3247 - accuracy: 0.4967 - val_loss: 0.3398 - val_accuracy: 0.4944\n",
            "Epoch 76/100\n",
            "32/32 [==============================] - 50s 2s/step - loss: 0.3222 - accuracy: 0.4971 - val_loss: 0.3408 - val_accuracy: 0.4943\n",
            "Epoch 77/100\n",
            "32/32 [==============================] - 50s 2s/step - loss: 0.3196 - accuracy: 0.4975 - val_loss: 0.3350 - val_accuracy: 0.4956\n",
            "Epoch 78/100\n",
            "32/32 [==============================] - 50s 2s/step - loss: 0.3148 - accuracy: 0.4984 - val_loss: 0.3301 - val_accuracy: 0.4966\n",
            "Epoch 79/100\n",
            "32/32 [==============================] - 50s 2s/step - loss: 0.3122 - accuracy: 0.4990 - val_loss: 0.3289 - val_accuracy: 0.4963\n",
            "Epoch 80/100\n",
            "32/32 [==============================] - 50s 2s/step - loss: 0.3083 - accuracy: 0.4995 - val_loss: 0.3269 - val_accuracy: 0.4974\n",
            "Epoch 81/100\n",
            "32/32 [==============================] - 50s 2s/step - loss: 0.3046 - accuracy: 0.5003 - val_loss: 0.3206 - val_accuracy: 0.4984\n",
            "Epoch 82/100\n",
            "32/32 [==============================] - 50s 2s/step - loss: 0.3016 - accuracy: 0.5010 - val_loss: 0.3191 - val_accuracy: 0.4983\n",
            "Epoch 83/100\n",
            "32/32 [==============================] - 50s 2s/step - loss: 0.2986 - accuracy: 0.5016 - val_loss: 0.3154 - val_accuracy: 0.4992\n",
            "Epoch 84/100\n",
            "32/32 [==============================] - 50s 2s/step - loss: 0.2954 - accuracy: 0.5024 - val_loss: 0.3140 - val_accuracy: 0.4996\n",
            "Epoch 85/100\n",
            "32/32 [==============================] - 50s 2s/step - loss: 0.2939 - accuracy: 0.5023 - val_loss: 0.3163 - val_accuracy: 0.4986\n",
            "Epoch 86/100\n",
            "32/32 [==============================] - 50s 2s/step - loss: 0.2915 - accuracy: 0.5028 - val_loss: 0.3096 - val_accuracy: 0.4998\n",
            "Epoch 87/100\n",
            "32/32 [==============================] - 50s 2s/step - loss: 0.3850 - accuracy: 0.4802 - val_loss: 2.1352 - val_accuracy: 0.0866\n",
            "Epoch 88/100\n",
            "32/32 [==============================] - 50s 2s/step - loss: 2.2033 - accuracy: 0.0528 - val_loss: 2.1964 - val_accuracy: 0.0449\n",
            "Epoch 89/100\n",
            "32/32 [==============================] - 50s 2s/step - loss: 2.1419 - accuracy: 0.0510 - val_loss: 2.1267 - val_accuracy: 0.0534\n",
            "Epoch 90/100\n",
            "32/32 [==============================] - 50s 2s/step - loss: 2.0920 - accuracy: 0.0651 - val_loss: 2.0750 - val_accuracy: 0.0741\n",
            "Epoch 91/100\n",
            "32/32 [==============================] - 50s 2s/step - loss: 2.0555 - accuracy: 0.0762 - val_loss: 2.0952 - val_accuracy: 0.0637\n",
            "Epoch 92/100\n",
            "32/32 [==============================] - 50s 2s/step - loss: 2.0643 - accuracy: 0.0712 - val_loss: 2.0564 - val_accuracy: 0.0770\n",
            "Epoch 93/100\n",
            "32/32 [==============================] - 50s 2s/step - loss: 2.0292 - accuracy: 0.0817 - val_loss: 2.0279 - val_accuracy: 0.0849\n",
            "Epoch 94/100\n",
            "32/32 [==============================] - 50s 2s/step - loss: 2.0607 - accuracy: 0.0822 - val_loss: 2.1147 - val_accuracy: 0.0771\n",
            "Epoch 95/100\n",
            "32/32 [==============================] - 50s 2s/step - loss: 2.1017 - accuracy: 0.0728 - val_loss: 2.0662 - val_accuracy: 0.0777\n",
            "Epoch 96/100\n",
            "32/32 [==============================] - 50s 2s/step - loss: 2.0208 - accuracy: 0.0827 - val_loss: 2.0002 - val_accuracy: 0.0931\n",
            "Epoch 97/100\n",
            "32/32 [==============================] - 50s 2s/step - loss: 1.9681 - accuracy: 0.0993 - val_loss: 1.9550 - val_accuracy: 0.1057\n",
            "Epoch 98/100\n",
            "32/32 [==============================] - 50s 2s/step - loss: 1.9230 - accuracy: 0.1118 - val_loss: 1.9114 - val_accuracy: 0.1190\n",
            "Epoch 99/100\n",
            "32/32 [==============================] - 50s 2s/step - loss: 1.8683 - accuracy: 0.1286 - val_loss: 1.8411 - val_accuracy: 0.1407\n",
            "Epoch 100/100\n",
            "32/32 [==============================] - 50s 2s/step - loss: 1.7767 - accuracy: 0.1549 - val_loss: 1.7259 - val_accuracy: 0.1714\n"
          ]
        }
      ]
    },
    {
      "cell_type": "code",
      "metadata": {
        "id": "fJ9ZVegfVNe_",
        "colab": {
          "base_uri": "https://localhost:8080/",
          "height": 578
        },
        "outputId": "5aa61523-8e7a-46e8-e758-ad91b9daf2fa"
      },
      "source": [
        "%matplotlib inline\n",
        "import matplotlib.pyplot as plt\n",
        "accuracy = history.history['accuracy']\n",
        "val_accuracy = history.history['val_accuracy']\n",
        "loss = history.history['loss']\n",
        "val_loss = history.history['val_loss']\n",
        "\n",
        "epochs = range(len(accuracy))\n",
        "\n",
        "plt.plot(epochs, accuracy, 'g', label='Training accuracy')\n",
        "plt.plot(epochs, val_accuracy, 'b', label='Validation accuracy')\n",
        "plt.title('Training and validation accuracy')\n",
        "plt.legend(loc=0)\n",
        "plt.savefig('wordA.png')\n",
        "plt.figure()\n",
        "plt.show()\n",
        "\n",
        "plt.plot(epochs, loss, 'r', label='Training loss')\n",
        "plt.plot(epochs, val_loss, 'o', label='Validation loss')\n",
        "plt.title('Training and validation loss')\n",
        "plt.legend(loc=0)\n",
        "plt.savefig('wordL.png')\n",
        "plt.figure()\n",
        "plt.show()"
      ],
      "execution_count": 12,
      "outputs": [
        {
          "output_type": "display_data",
          "data": {
            "image/png": "[encoded data removed]",
            "text/plain": [
              "<Figure size 432x288 with 1 Axes>"
            ]
          },
          "metadata": {
            "needs_background": "light"
          }
        },
        {
          "output_type": "display_data",
          "data": {
            "text/plain": [
              "<Figure size 432x288 with 0 Axes>"
            ]
          },
          "metadata": {}
        },
        {
          "output_type": "display_data",
          "data": {
            "image/png": "[encoded data removed]",
            "text/plain": [
              "<Figure size 432x288 with 1 Axes>"
            ]
          },
          "metadata": {
            "needs_background": "light"
          }
        },
        {
          "output_type": "display_data",
          "data": {
            "text/plain": [
              "<Figure size 432x288 with 0 Axes>"
            ]
          },
          "metadata": {}
        }
      ]
    },
    {
      "cell_type": "code",
      "metadata": {
        "id": "Uxy08NM_hAS6"
      },
      "source": [
        "from tensorflow import keras\n",
        "from keras.models import load_model\n",
        "from keras.layers import Input, LSTM, Dense\n",
        "from keras.models import Model\n",
        "#training_model = load_model('/content/drive/My Drive/MachineTranslation/training_model.h5')\n",
        "encoder_inputs = training_model.input[0]\n",
        "encoder_outputs, state_h_enc, state_c_enc = training_model.layers[2].output\n",
        "encoder_states = [state_h_enc, state_c_enc]\n",
        "encoder_model = Model(encoder_inputs, encoder_states)\n",
        "\n",
        "latent_dim = 256\n",
        "decoder_state_input_hidden = Input(shape=(latent_dim,))\n",
        "decoder_state_input_cell = Input(shape=(latent_dim,))\n",
        "decoder_states_inputs = [decoder_state_input_hidden, decoder_state_input_cell]\n",
        "decoder_outputs, state_hidden, state_cell = decoder_lstm(decoder_inputs, initial_state=decoder_states_inputs)\n",
        "decoder_states = [state_hidden, state_cell]\n",
        "decoder_outputs = decoder_dense(decoder_outputs)\n",
        "decoder_model = Model([decoder_inputs] + decoder_states_inputs, [decoder_outputs] + decoder_states)\n",
        "\n",
        "def decode_response(test_input):\n",
        "    #Getting the output states to pass into the decoder\n",
        "    states_value = encoder_model.predict(test_input)\n",
        "    #Generating empty target sequence of length 1\n",
        "    target_seq = np.zeros((1, 1, num_decoder_tokens))\n",
        "    #Setting the first token of target sequence with the start token\n",
        "    target_seq[0, 0, target_features_dict['<START>']] = 1.\n",
        "    \n",
        "    #A variable to store our response word by word\n",
        "    decoded_sentence = ''\n",
        "    \n",
        "    stop_condition = False\n",
        "    while not stop_condition:\n",
        "      #Predicting output tokens with probabilities and states\n",
        "      output_tokens, hidden_state, cell_state = decoder_model.predict([target_seq] + states_value)\n",
        "#Choosing the one with highest probability\n",
        "      sampled_token_index = np.argmax(output_tokens[0, -1, :])\n",
        "      sampled_token = reverse_target_features_dict[sampled_token_index]\n",
        "      decoded_sentence += \" \" + sampled_token\n",
        "#Stop if hit max length or found the stop token\n",
        "      if (sampled_token == '<END>' or len(decoded_sentence) > max_decoder_seq_length):\n",
        "        stop_condition = True\n",
        "#Update the target sequence\n",
        "      target_seq = np.zeros((1, 1, num_decoder_tokens))\n",
        "      target_seq[0, 0, sampled_token_index] = 1.\n",
        "      #Update states\n",
        "      states_value = [hidden_state, cell_state]\n",
        "    return decoded_sentence"
      ],
      "execution_count": 13,
      "outputs": []
    },
    {
      "cell_type": "code",
      "metadata": {
        "id": "7UZWQtdnl30H"
      },
      "source": [
        "class Translator:\n",
        "  exit_commands = (\"quit\", \"pause\", \"exit\", \"goodbye\", \"bye\", \"later\", \"stop\")\n",
        "  \n",
        "  #Method to start the translator\n",
        "  def start(self):\n",
        "    user_response = input(\"Give in an English sentence. :) \\n\")\n",
        "    self.translate(user_response)\n",
        "  \n",
        "  #Method to handle the conversation\n",
        "  def translate(self, reply):\n",
        "    while not self.make_exit(reply):\n",
        "      reply = input(self.generate_response(reply)+\"\\n\")\n",
        "\n",
        "  #Method to convert user input into a matrix\n",
        "  def string_to_matrix(self, user_input):\n",
        "    tokens = re.findall(r\"[\\w']+|[^\\s\\w]\", user_input)\n",
        "    user_input_matrix = np.zeros(\n",
        "      (1, max_encoder_seq_length, num_encoder_tokens),\n",
        "      dtype='float32')\n",
        "    for timestep, token in enumerate(tokens):\n",
        "      if token in input_features_dict:\n",
        "        user_input_matrix[0, timestep, input_features_dict[token]] = 1.\n",
        "    return user_input_matrix\n",
        "  \n",
        "  #Method that will create a response using seq2seq model we built\n",
        "  def generate_response(self, user_input):\n",
        "    input_matrix = self.string_to_matrix(user_input)\n",
        "    chatbot_response = decode_response(input_matrix)\n",
        "    #Remove <START> and <END> tokens from chatbot_response\n",
        "    chatbot_response = chatbot_response.replace(\"<START>\",'')\n",
        "    chatbot_response = chatbot_response.replace(\"<END>\",'')\n",
        "    return chatbot_response\n",
        "  \n",
        "  #Method to check for exit commands\n",
        "  def make_exit(self, reply):\n",
        "    for exit_command in self.exit_commands:\n",
        "      if exit_command in reply:\n",
        "        print(\"Ok, have a great day!\")\n",
        "        return True\n",
        "    return False\n",
        "  \n",
        "translator = Translator()"
      ],
      "execution_count": 14,
      "outputs": []
    },
    {
      "cell_type": "code",
      "metadata": {
        "id": "ZeyXAWK0LEnV"
      },
      "source": [
        "translator.start()"
      ],
      "execution_count": null,
      "outputs": []
    }
  ]
}